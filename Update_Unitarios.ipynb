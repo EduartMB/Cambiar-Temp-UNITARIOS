{
 "cells": [
  {
   "cell_type": "code",
   "execution_count": null,
   "metadata": {},
   "outputs": [],
   "source": [
    "#Se importan las librerias\n",
    "import os\n",
    "import glob"
   ]
  },
  {
   "cell_type": "code",
   "execution_count": null,
   "metadata": {},
   "outputs": [],
   "source": [
    "# Se define la función que actualiza la línea cambiando la temperatura absoluta por el incremento de temperatura\n",
    "def abs2delta(linea, tref):\n",
    "    \n",
    "    # Se añade la funcion 'round' porque en algunos valores se sacaban infinidad de decimales al hacer la resta con tref\n",
    "    try:\n",
    "        temp = str(round(float(linea[79:89]) - tref, 2))\n",
    "        temp = ' {} |'.format(temp.rjust(8))\n",
    "    except:\n",
    "        print(linea)\n",
    "    \n",
    "    return linea[:79] + temp"
   ]
  },
  {
   "cell_type": "code",
   "execution_count": null,
   "metadata": {},
   "outputs": [],
   "source": [
    "#Se buscan todos los archivos UNITARIOS y se guardan sus rutas\n",
    "path = os.getcwd()\n",
    "text_files = glob.glob(path + \"/**/UNITARY*.DAT\", recursive = True)\n",
    "\n",
    "#Se va abriendo archivo a archivo y se modifica la columna de temperatura, restando la temperatura de referencia\n",
    "t_ref = 20.0\n",
    "inicio_tabla = '|   Temp   |'\n",
    "fin_tabla = '+----------+'\n",
    "\n",
    "for unitario in text_files:\n",
    "    print(unitario)\n",
    "    \n",
    "    # Se crea un archivo temporal en el que se van escribiendo todas las lineas, para finalmente sustiruir al archivo original\n",
    "    temp_file = open('temporal.dat', 'w', newline='\\n')\n",
    "    \n",
    "    with open(unitario, 'r', newline='\\n') as f:\n",
    "        linea = f.readline()\n",
    "\n",
    "        # Se busca el inicio e la tabla\n",
    "        while inicio_tabla != linea.rstrip()[78:]:\n",
    "            temp_file.write(linea)\n",
    "            linea = f.readline()\n",
    "\n",
    "        # Una vez encuentra la tabla con las temperaturas se van modificando hasta encontrar el final de la tabla.\n",
    "        temp_file.write(linea)\n",
    "        linea = f.readline()\n",
    "        temp_file.write(linea)       \n",
    "        linea = f.readline()\n",
    "        \n",
    "        while fin_tabla != linea.rstrip()[78:]:\n",
    "            temp_file.write(abs2delta(linea.rstrip(), t_ref) + '\\n')\n",
    "            linea = f.readline()\n",
    "        \n",
    "        # Se escribe ahora el resto del archivo tal cual estaba\n",
    "        while linea != '':\n",
    "            temp_file.write(linea)\n",
    "            linea = f.readline()\n",
    "    \n",
    "    # Una vez termina el bucle se guarda el archivo temporal sobreescribiendo el original\n",
    "    temp_file.close()\n",
    "    os.remove(unitario)\n",
    "    os.rename('temporal.dat', unitario)"
   ]
  },
  {
   "cell_type": "code",
   "execution_count": null,
   "metadata": {},
   "outputs": [],
   "source": []
  }
 ],
 "metadata": {
  "kernelspec": {
   "display_name": "Python 3",
   "language": "python",
   "name": "python3"
  },
  "language_info": {
   "codemirror_mode": {
    "name": "ipython",
    "version": 3
   },
   "file_extension": ".py",
   "mimetype": "text/x-python",
   "name": "python",
   "nbconvert_exporter": "python",
   "pygments_lexer": "ipython3",
   "version": "3.8.3"
  }
 },
 "nbformat": 4,
 "nbformat_minor": 4
}
